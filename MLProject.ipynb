{
  "nbformat": 4,
  "nbformat_minor": 0,
  "metadata": {
    "colab": {
      "name": "MLProject.ipynb",
      "provenance": [],
      "collapsed_sections": []
    },
    "kernelspec": {
      "name": "python3",
      "display_name": "Python 3"
    }
  },
  "cells": [
    {
      "cell_type": "code",
      "metadata": {
        "id": "PNZCmjLPSSSa",
        "colab_type": "code",
        "colab": {}
      },
      "source": [
        "import os\n",
        "import numpy as np\n",
        "import matplotlib\n",
        "import matplotlib.pyplot as plt\n",
        "import pandas as pd\n",
        "from sklearn.model_selection import train_test_split\n",
        "from pandas.plotting import scatter_matrix # optional\n",
        "from sklearn.impute import SimpleImputer\n",
        "from sklearn.preprocessing import LabelEncoder\n",
        "from sklearn.preprocessing import OneHotEncoder\n",
        "from sklearn.pipeline import Pipeline\n",
        "from sklearn.preprocessing import StandardScaler\n",
        "import warnings\n",
        "warnings.filterwarnings(\"ignore\")\n",
        "\n",
        "np.random.seed(42)\n",
        "\n",
        "url = \"https://raw.githubusercontent.com/erinmjohnston/MLproject/master/2016-postsecondary-enrollment.csv\"\n",
        "data = pd.read_csv(url)\n",
        "data= data.drop(\"DIV_NAME\", axis=1)\n",
        "data = data.drop(\"COHORT_GRADUATE_CNT\", axis=1)\n",
        "data = data.drop(\"PS_ENROLLMENT_CNT\", axis=1)"
      ],
      "execution_count": 0,
      "outputs": []
    },
    {
      "cell_type": "code",
      "metadata": {
        "id": "d_TPxM8qViE8",
        "colab_type": "code",
        "colab": {}
      },
      "source": [
        "from sklearn.compose import ColumnTransformer\n",
        "from sklearn.preprocessing import StandardScaler\n",
        "\n",
        "attributes = ['FEDERAL_RACE_CODE', 'GENDER', 'DISABILITY_FLAG', 'LEP_FLAG', 'DISADVANTAGED_FLAG']\n",
        "\n",
        "full_pipeline = ColumnTransformer([\n",
        "    (\"cat\", OneHotEncoder(sparse=False), attributes)\n",
        "])\n",
        "\n",
        "encoder = OneHotEncoder(sparse=False)\n",
        "\n",
        "prep_data_y = np.array([data[\"PS_ENROLLMENT_RATE\"].values]).transpose()\n",
        "prep_data_x = encoder.fit_transform(data[attributes])\n",
        "feature_names = encoder.get_feature_names(attributes)\n",
        "# feature_names = np.append(encoder.get_feature_names(attributes),\"PS_ENROLLMENT_RATE\")\n",
        "# print(feature_names)"
      ],
      "execution_count": 0,
      "outputs": []
    },
    {
      "cell_type": "code",
      "metadata": {
        "id": "sUxX8nzkUWfX",
        "colab_type": "code",
        "colab": {}
      },
      "source": [
        "x_train, x_test, y_train, y_test = train_test_split(prep_data_x, prep_data_y, test_size=0.2, random_state=42)"
      ],
      "execution_count": 0,
      "outputs": []
    },
    {
      "cell_type": "code",
      "metadata": {
        "id": "qYwcoU-tbyTm",
        "colab_type": "code",
        "outputId": "810e7476-cb27-4509-e9d0-72e2fe812f73",
        "colab": {
          "base_uri": "https://localhost:8080/",
          "height": 118
        }
      },
      "source": [
        "from sklearn.metrics import mean_squared_error, mean_absolute_error\n",
        "from sklearn.linear_model import SGDRegressor\n",
        "\n",
        "mySGDModel = SGDRegressor()\n",
        "mySGDModel.fit(x_train, y_train)\n",
        "SGD_predict = mySGDModel.predict(x_test)\n",
        "mse = mean_squared_error(y_test, SGD_predict)\n",
        "mae = mean_absolute_error(y_test, SGD_predict)\n",
        "mySGDModel_rmse = np.sqrt(mse)\n",
        "print(\"Feature Coefficients:\", mySGDModel.coef_)\n",
        "print(\"SGD MAE: \", mae)\n",
        "print(\"SGD MSE: \", mse)\n",
        "print(\"SGD RMSE: \", mySGDModel_rmse)"
      ],
      "execution_count": 0,
      "outputs": [
        {
          "output_type": "stream",
          "text": [
            "Feature Coefficients: [0.00104685 0.104461   0.01595386 0.00453491 0.00130627 0.04029118\n",
            " 0.14435195 0.02324211 0.15377406 0.01382    0.11351998 0.05407408\n",
            " 0.16394167 0.00365239]\n",
            "SGD MAE:  0.12158430935325411\n",
            "SGD MSE:  0.02223750701069805\n",
            "SGD RMSE:  0.14912245642658267\n"
          ],
          "name": "stdout"
        }
      ]
    },
    {
      "cell_type": "code",
      "metadata": {
        "id": "OaQImZVkejkK",
        "colab_type": "code",
        "outputId": "ea3718cd-8e1a-431d-9797-1507ad6b7cea",
        "colab": {
          "base_uri": "https://localhost:8080/",
          "height": 134
        }
      },
      "source": [
        "from sklearn.linear_model import LinearRegression\n",
        "\n",
        "lin = LinearRegression()\n",
        "lin.fit(x_train, y_train)\n",
        "lin_predict = lin.predict(x_test)\n",
        "mse = mean_squared_error(y_test, lin_predict)\n",
        "lin_rmse = np.sqrt(mse)\n",
        "mae = mean_absolute_error(y_test, lin_predict)\n",
        "print(\"Feature Coefficients:\", lin.coef_)\n",
        "print(\"Linear Regression MAE: \", mae)\n",
        "print(\"Linear Regression MSE: \", mse)\n",
        "print(\"Linear Regression RMSE: \", lin_rmse)"
      ],
      "execution_count": 0,
      "outputs": [
        {
          "output_type": "stream",
          "text": [
            "Feature Coefficients: [[ 4.60929858e+11  4.60929858e+11  4.60929858e+11  4.60929858e+11\n",
            "   4.60929858e+11  4.60929858e+11 -6.64697396e+12 -6.64697396e+12\n",
            "   1.83960473e+11  1.83960473e+11  5.56470725e+12  5.56470725e+12\n",
            "   4.08643171e+12  4.08643171e+12]]\n",
            "Linear Regression MAE:  0.12228753375347222\n",
            "Linear Regression MSE:  0.022263108839484392\n",
            "Linear Regression RMSE:  0.14920827336138032\n"
          ],
          "name": "stdout"
        }
      ]
    },
    {
      "cell_type": "code",
      "metadata": {
        "id": "kzdM7DCgTUkh",
        "colab_type": "code",
        "outputId": "c7953af4-e0e6-4569-adcd-18c732314f12",
        "colab": {
          "base_uri": "https://localhost:8080/",
          "height": 151
        }
      },
      "source": [
        "from sklearn import linear_model \n",
        "\n",
        "reg = linear_model.Ridge(alpha=.5)\n",
        "reg.fit(x_train, y_train)\n",
        "reg_predict = reg.predict(x_test)\n",
        "mse = mean_squared_error(y_test, reg_predict)\n",
        "reg_rmse = np.sqrt(mse)\n",
        "mae = mean_absolute_error(y_test, reg_predict)\n",
        "\n",
        "coef = reg.coef_\n",
        "coef = pd.DataFrame(coef, columns=feature_names)\n",
        "print(\"Feature Coefficients:\")\n",
        "print(coef)\n",
        "print(\"Ridge Regression MAE: \", mae)\n",
        "print(\"Ridge Regression MSE: \", mse)\n",
        "print(\"Ridge Regression RMSE: \", reg_rmse)"
      ],
      "execution_count": 0,
      "outputs": [
        {
          "output_type": "stream",
          "text": [
            "Feature Coefficients:\n",
            "   FEDERAL_RACE_CODE_1  ...  DISADVANTAGED_FLAG_Y\n",
            "0             0.013653  ...              -0.07878\n",
            "\n",
            "[1 rows x 14 columns]\n",
            "Ridge Regression MAE:  0.12232832800742607\n",
            "Ridge Regression MSE:  0.022235403334532815\n",
            "Ridge Regression RMSE:  0.1491154027407391\n"
          ],
          "name": "stdout"
        }
      ]
    },
    {
      "cell_type": "code",
      "metadata": {
        "id": "hq47SFXPw4GD",
        "colab_type": "code",
        "outputId": "b21a76d6-e004-4c9b-d8ad-ed5e8d2d9e61",
        "colab": {
          "base_uri": "https://localhost:8080/",
          "height": 1000
        }
      },
      "source": [
        "from sklearn.model_selection import cross_val_score\n",
        "\n",
        "def display_scores(scores):\n",
        "    print(\"Scores:\", scores)\n",
        "    print(\"Mean:\", scores.mean())\n",
        "    print(\"Standard deviation\", scores.std())\n",
        "    print()\n",
        "\n",
        "SGD_scores = cross_val_score(mySGDModel, x_train, y_train, \n",
        "                         scoring = \"neg_mean_squared_error\", cv=120)\n",
        "\n",
        "SGD_rmse_scores = np.sqrt(-SGD_scores)\n",
        "\n",
        "lin_scores = cross_val_score(lin, x_train, y_train, \n",
        "                         scoring = \"neg_mean_squared_error\", cv=120)\n",
        "\n",
        "lin_rmse_scores = np.sqrt(-lin_scores)\n",
        "\n",
        "reg_scores = cross_val_score(reg, x_train, y_train, \n",
        "                         scoring = \"neg_mean_squared_error\", cv=120)\n",
        "\n",
        "reg_rmse_scores = np.sqrt(-reg_scores)\n",
        "\n",
        "print(\"SGD:\")\n",
        "display_scores(SGD_rmse_scores)\n",
        "print(\"linear regression:\")\n",
        "display_scores(lin_rmse_scores)\n",
        "print(\"ridge regression:\")\n",
        "display_scores(reg_rmse_scores)\n",
        "print(\"Feature Coefficients:\", reg.coef_)"
      ],
      "execution_count": 0,
      "outputs": [
        {
          "output_type": "stream",
          "text": [
            "SGD:\n",
            "Scores: [0.08735001 0.09372358 0.17681805 0.09505034 0.11003537 0.12006504\n",
            " 0.10507946 0.11969911 0.09060129 0.12122964 0.21191073 0.13882643\n",
            " 0.15526613 0.18673967 0.16115789 0.10234551 0.12150819 0.1792844\n",
            " 0.14305981 0.20008501 0.20663104 0.17267046 0.11065469 0.15675359\n",
            " 0.10204947 0.10254531 0.19468663 0.14159857 0.08670979 0.08161144\n",
            " 0.0934205  0.07650773 0.15407061 0.16203099 0.13122701 0.11968598\n",
            " 0.21388015 0.1409204  0.1745795  0.13230947 0.12913207 0.15726539\n",
            " 0.15172632 0.09829166 0.14278337 0.13125433 0.11190201 0.1469233\n",
            " 0.19360584 0.19431227 0.25708306 0.23129638 0.07752393 0.16370045\n",
            " 0.11798672 0.13394676 0.0892751  0.13910832 0.12156012 0.11055122\n",
            " 0.05784    0.09205442 0.11846655 0.11899767 0.12622461 0.12489046\n",
            " 0.10332929 0.17774604 0.14127466 0.12290213 0.09944566 0.15075556\n",
            " 0.13741848 0.18425708 0.12038929 0.07963563 0.21190254 0.21616865\n",
            " 0.13193904 0.17925191 0.09944951 0.11716795 0.09440642 0.23139603\n",
            " 0.10266746 0.22497872 0.11171472 0.07535828 0.17537943 0.18934972\n",
            " 0.16823676 0.17156622 0.1282109  0.17293497 0.14819438 0.17622236\n",
            " 0.14441072 0.07194037 0.13582958 0.19821482 0.10106539 0.1480162\n",
            " 0.08397132 0.14873321 0.12986431 0.13377149 0.14225303 0.19483442\n",
            " 0.08154688 0.17071843 0.1793231  0.23793124 0.07236389 0.22211934\n",
            " 0.17457327 0.12955207 0.07082302 0.101915   0.07040107 0.15108195]\n",
            "Mean: 0.13959154325991924\n",
            "Standard deviation 0.04330052489824678\n",
            "\n",
            "linear regression:\n",
            "Scores: [9.39390513e-02 6.87939822e-02 1.80936000e-01 9.61567827e-02\n",
            " 1.03586119e-01 1.08972861e-01 1.01673218e-01 1.10641228e-01\n",
            " 9.09805841e-02 1.29504122e-01 2.10150459e-01 1.16341238e-01\n",
            " 1.62013091e-01 1.77706939e-01 1.57634810e-01 9.92824000e-02\n",
            " 1.36916516e-01 1.72553352e-01 1.44999421e-01 1.49031303e-01\n",
            " 2.01772089e-01 1.74930963e-01 9.66171906e-02 1.49548449e-01\n",
            " 9.83204670e-02 1.12045248e-01 2.01864173e-01 1.25918106e-01\n",
            " 9.17302050e-02 7.90976015e-02 8.40860075e-02 9.37839228e-02\n",
            " 1.55890685e-01 1.69311244e-01 1.29285691e-01 1.18862998e-01\n",
            " 2.08634290e-01 1.09766366e-01 1.70256033e-01 1.34790675e-01\n",
            " 1.28332720e-01 1.52123497e-01 1.51138910e-01 1.11924417e-01\n",
            " 1.48600152e-01 1.27688167e-01 1.39874170e-01 1.39512788e-01\n",
            " 1.83008912e-01 1.89178256e-01 2.49820788e-01 2.29366361e-01\n",
            " 7.44619789e-02 1.58383997e-01 9.85796340e-02 1.34227762e-01\n",
            " 9.75588927e-02 1.47012217e-01 1.20043495e-01 1.09275142e-01\n",
            " 6.41482934e-02 1.06482968e-01 1.11771449e-01 1.26866042e-01\n",
            " 1.23317815e-01 1.32011203e-01 1.02089330e-01 1.55846613e-01\n",
            " 1.33015701e-01 1.18415776e-01 8.64980952e-02 1.40856014e-01\n",
            " 1.33729898e-01 1.74430855e-01 1.20549582e-01 8.75903772e-02\n",
            " 1.97838900e-01 2.33166444e-01 1.47479211e-01 1.68207031e-01\n",
            " 9.82021386e-02 1.18611670e-01 9.19109405e-02 2.22383287e-01\n",
            " 2.58578855e+12 2.18681507e-01 1.14218812e-01 7.32887822e-02\n",
            " 1.84605970e-01 1.74394071e-01 1.52556905e-01 1.55842915e-01\n",
            " 1.22917655e-01 1.78371736e-01 1.51473391e-01 1.80290269e-01\n",
            " 1.42917679e-01 6.17109161e-02 1.44440924e-01 2.00524265e-01\n",
            " 9.35338191e-02 1.57188781e-01 9.15944627e-02 1.38451768e-01\n",
            " 1.21426718e-01 1.18414072e-01 1.41925730e-01 1.92292240e-01\n",
            " 7.66929493e-02 1.69894031e-01 1.87770264e-01 2.58944112e-01\n",
            " 7.78378106e-02 2.02201418e-01 1.78687393e-01 1.31578471e-01\n",
            " 8.02471122e-02 1.03497553e-01 8.29723053e-02 1.50573091e-01]\n",
            "Mean: 21548237926.97575\n",
            "Standard deviation 235063524121.54825\n",
            "\n",
            "ridge regression:\n",
            "Scores: [0.09572842 0.07662162 0.17914834 0.09386806 0.1037303  0.10786711\n",
            " 0.10047515 0.11556762 0.09142287 0.12162597 0.21081012 0.11720941\n",
            " 0.15793885 0.17867334 0.15753684 0.0981826  0.13112561 0.17702201\n",
            " 0.14401855 0.1483515  0.20356679 0.17495294 0.09831674 0.14419876\n",
            " 0.09706941 0.10938319 0.19983637 0.12978501 0.09386245 0.07898058\n",
            " 0.09008028 0.08677161 0.15628664 0.17008847 0.12801626 0.12087196\n",
            " 0.20951755 0.10927091 0.1686338  0.13441378 0.12807433 0.15534434\n",
            " 0.15221375 0.10950879 0.14984411 0.13071165 0.13754547 0.14183368\n",
            " 0.18351631 0.18926297 0.24432147 0.22934687 0.07339142 0.15291805\n",
            " 0.09904209 0.13424212 0.09510656 0.14612824 0.11854883 0.11064703\n",
            " 0.06215833 0.10515675 0.11249549 0.12465444 0.11987827 0.12905368\n",
            " 0.10195558 0.15457328 0.13298336 0.1205398  0.08449786 0.14154522\n",
            " 0.1329535  0.17571747 0.12109515 0.08823842 0.19714148 0.23390146\n",
            " 0.14887087 0.17155908 0.0971998  0.11835173 0.09188281 0.22247941\n",
            " 0.08060417 0.2171729  0.11471104 0.07712997 0.18055287 0.1762079\n",
            " 0.15287429 0.15524387 0.12837365 0.17621116 0.15303221 0.17932991\n",
            " 0.140046   0.06905725 0.14457828 0.19755957 0.09333656 0.15480302\n",
            " 0.08716675 0.14048156 0.12180676 0.12088304 0.14103422 0.1927437\n",
            " 0.07601606 0.16881298 0.18305967 0.25981379 0.07552225 0.20269413\n",
            " 0.17576562 0.13175449 0.08256599 0.10300402 0.08142843 0.14944261]\n",
            "Mean: 0.13721733118627502\n",
            "Standard deviation 0.04219295006551316\n",
            "\n",
            "Feature Coefficients: [[ 0.01365298  0.14528438 -0.04190851 -0.07479858 -0.05382198  0.01159171\n",
            "   0.06153211 -0.06153211  0.06422831 -0.06422831  0.01839623 -0.01839623\n",
            "   0.07878021 -0.07878021]]\n"
          ],
          "name": "stdout"
        }
      ]
    },
    {
      "cell_type": "code",
      "metadata": {
        "id": "BLoM37vf2GnV",
        "colab_type": "code",
        "colab": {}
      },
      "source": [
        "from sklearn import linear_model \n",
        "from sklearn.model_selection import cross_val_predict\n",
        "from sklearn.metrics import mean_squared_error, mean_absolute_error\n",
        "\n",
        "\n",
        "reg_predict =  cross_val_predict(reg, x_train, y_train, cv=15)\n"
      ],
      "execution_count": 0,
      "outputs": []
    },
    {
      "cell_type": "markdown",
      "metadata": {
        "id": "-_mX_lhtU8HO",
        "colab_type": "text"
      },
      "source": [
        "Feature Weights:\n",
        "\n",
        "\n",
        "Asian                        0.145284           \n",
        "Black                       -0.041909   \n",
        "Hispanic                 -0.074799\n",
        "White -0.053822\n",
        "FEDERAL_RACE_CODE_99 0.011592\n",
        "Female 0.061532\n",
        "Male -0.061532\n",
        "DISABILITY_FLAG_N 0.064228\n",
        "DISABILITY_FLAG_Y -0.064228\n",
        "LEP_FLAG_N 0.018396\n",
        "LEP_FLAG_Y -0.018396\n",
        "DISADVANTAGED_FLAG_N 0.07878\n",
        "DISADVANTAGED_FLAG_Y -0.07878"
      ]
    }
  ]
}